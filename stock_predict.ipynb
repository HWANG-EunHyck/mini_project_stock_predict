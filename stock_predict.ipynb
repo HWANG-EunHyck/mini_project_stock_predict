{
 "cells": [
  {
   "cell_type": "code",
   "execution_count": 4,
   "metadata": {},
   "outputs": [],
   "source": [
    "import yfinance as yf\n",
    "import pandas as pd\n",
    "import numpy as np\n",
    "from datetime import datetime,timedelta\n",
    "import matplotlib.pyplot as plt\n",
    "import seaborn as sns\n",
    "sns.set_style('whitegrid')\n",
    "plt.style.use(\"fivethirtyeight\")"
   ]
  },
  {
   "cell_type": "code",
   "execution_count": null,
   "metadata": {},
   "outputs": [],
   "source": [
    "# 주식 데이터를 불러오기\n",
    "tech_list = ['AAPL', 'GOOG', 'MSFT', 'AMZN']\n",
    "\n",
    "# 시작일과 종료일 설정\n",
    "start = datetime(2020, 1, 1)\n",
    "end = datetime.now()\n",
    "\n",
    "# # 각각의 종목 데이터를 불러와서 CSV 파일로 저장\n",
    "# for stock in tech_list:\n",
    "#     data = yf.download(stock, start=start, end=end)\n",
    "#     data.to_csv(f'{stock}_data.csv')  # CSV 파일로 저장\n",
    "#     print(f\"\\n{stock} 데이터를 {stock}_data.csv 파일로 저장했습니다.\")"
   ]
  },
  {
   "cell_type": "code",
   "execution_count": null,
   "metadata": {},
   "outputs": [],
   "source": [
    "column_names = ['Date', 'Adj Close', 'Close', 'High', 'Low', 'Open', 'Volume']\n",
    "\n",
    "AAPL = pd.read_csv(r'C:\\Users\\a\\Desktop\\mini_project\\15_stock_predict\\AAPL_data.csv', \n",
    "                   skiprows=2,           # 첫 번째 두 행 스킵\n",
    "                   names=column_names,   # 칼럼명 지정\n",
    "                   index_col=0,           # 'Date' 열을 인덱스로 설정\n",
    "                   parse_dates=True) \n",
    "\n",
    "AAPL_ = AAPL.dropna()"
   ]
  },
  {
   "cell_type": "code",
   "execution_count": null,
   "metadata": {},
   "outputs": [],
   "source": [
    "AAPL_.head(5)"
   ]
  },
  {
   "cell_type": "code",
   "execution_count": null,
   "metadata": {},
   "outputs": [],
   "source": [
    "AAPL_.info()"
   ]
  },
  {
   "cell_type": "code",
   "execution_count": null,
   "metadata": {},
   "outputs": [],
   "source": [
    "import matplotlib.dates as mdates  # 날짜 형식 지정을 위해 필요\n",
    "\n",
    "AAPL_.index = pd.to_datetime(AAPL_.index)\n",
    "\n",
    "plt.style.use('seaborn')\n",
    "\n",
    "plt.figure(figsize=(10, 6))\n",
    "\n",
    "\n",
    "plt.plot(AAPL_['Adj Close'], \n",
    "         color='#1f77b4',\n",
    "         linewidth=1.5)\n",
    "\n",
    "ax = plt.gca()\n",
    "ax.xaxis.set_major_locator(mdates.MonthLocator(interval=6))  # 6개월 간격으로 눈금 설정\n",
    "ax.xaxis.set_major_formatter(mdates.DateFormatter('%Y.%m'))  # YYYY.MM 형식으로 표시\n",
    "\n",
    "plt.grid(True, linestyle='--', alpha=0.7)\n",
    "plt.xlabel('Date', fontsize=10)\n",
    "plt.ylabel('Volume', fontsize=10)\n",
    "\n",
    "ax.spines['top'].set_visible(False)\n",
    "ax.spines['right'].set_visible(False)\n",
    "\n",
    "plt.ylim(bottom=0)\n",
    "\n",
    "plt.xticks(rotation=0)\n",
    "\n",
    "plt.tight_layout()\n",
    "\n",
    "plt.show()"
   ]
  },
  {
   "cell_type": "markdown",
   "metadata": {},
   "source": []
  },
  {
   "cell_type": "markdown",
   "metadata": {},
   "source": []
  },
  {
   "cell_type": "markdown",
   "metadata": {},
   "source": []
  },
  {
   "cell_type": "code",
   "execution_count": null,
   "metadata": {},
   "outputs": [],
   "source": [
    "'''\n",
    "model, scaler, rmse = prepare_and_train_model(df)\n",
    "'''"
   ]
  },
  {
   "cell_type": "code",
   "execution_count": 1,
   "metadata": {},
   "outputs": [],
   "source": [
    "from sklearn.preprocessing import MinMaxScaler\n",
    "import torch\n",
    "import torch.nn as nn\n",
    "import torch.optim as optim"
   ]
  },
  {
   "cell_type": "markdown",
   "metadata": {},
   "source": [
    "- 데이터를 12년도 부터 24년도까지 "
   ]
  },
  {
   "cell_type": "code",
   "execution_count": 5,
   "metadata": {},
   "outputs": [
    {
     "name": "stderr",
     "output_type": "stream",
     "text": [
      "[*********************100%***********************]  1 of 1 completed\n"
     ]
    }
   ],
   "source": [
    "aapl = yf.download('AAPL', start='2012-01-01', end=datetime.now(), interval='1d')\n",
    "aapl.columns = aapl.columns.droplevel(1)\n",
    "aapl = aapl[['Open', 'High', 'Low', 'Close', 'Adj Close', 'Volume']]\n",
    "aapl.reset_index(inplace=True)\n",
    "aapl['Date'] = aapl['Date'].dt.strftime('%Y-%m-%d 00:00:00-05:00')\n",
    "aapl.set_index('Date', inplace=True)"
   ]
  },
  {
   "cell_type": "markdown",
   "metadata": {},
   "source": [
    "- 95%를 훈련데이터 사용, 5%는 검증 데이터로 사용 \n",
    "- 예측은 종가 ['close']만 사용 \n",
    "- "
   ]
  },
  {
   "cell_type": "code",
   "execution_count": 6,
   "metadata": {},
   "outputs": [],
   "source": [
    "df = aapl\n",
    "data = df.filter(['Close'])\n",
    "dataset = data.values\n",
    "training_data_len = int(np.ceil(len(dataset) * .95))"
   ]
  },
  {
   "cell_type": "code",
   "execution_count": 7,
   "metadata": {},
   "outputs": [
    {
     "data": {
      "text/html": [
       "<div>\n",
       "<style scoped>\n",
       "    .dataframe tbody tr th:only-of-type {\n",
       "        vertical-align: middle;\n",
       "    }\n",
       "\n",
       "    .dataframe tbody tr th {\n",
       "        vertical-align: top;\n",
       "    }\n",
       "\n",
       "    .dataframe thead th {\n",
       "        text-align: right;\n",
       "    }\n",
       "</style>\n",
       "<table border=\"1\" class=\"dataframe\">\n",
       "  <thead>\n",
       "    <tr style=\"text-align: right;\">\n",
       "      <th>Price</th>\n",
       "      <th>Open</th>\n",
       "      <th>High</th>\n",
       "      <th>Low</th>\n",
       "      <th>Close</th>\n",
       "      <th>Adj Close</th>\n",
       "      <th>Volume</th>\n",
       "    </tr>\n",
       "    <tr>\n",
       "      <th>Date</th>\n",
       "      <th></th>\n",
       "      <th></th>\n",
       "      <th></th>\n",
       "      <th></th>\n",
       "      <th></th>\n",
       "      <th></th>\n",
       "    </tr>\n",
       "  </thead>\n",
       "  <tbody>\n",
       "    <tr>\n",
       "      <th>2024-10-18 00:00:00-05:00</th>\n",
       "      <td>236.179993</td>\n",
       "      <td>236.179993</td>\n",
       "      <td>234.009995</td>\n",
       "      <td>235.000000</td>\n",
       "      <td>235.000000</td>\n",
       "      <td>46431500</td>\n",
       "    </tr>\n",
       "    <tr>\n",
       "      <th>2024-10-21 00:00:00-05:00</th>\n",
       "      <td>234.449997</td>\n",
       "      <td>236.850006</td>\n",
       "      <td>234.449997</td>\n",
       "      <td>236.479996</td>\n",
       "      <td>236.479996</td>\n",
       "      <td>36254500</td>\n",
       "    </tr>\n",
       "    <tr>\n",
       "      <th>2024-10-22 00:00:00-05:00</th>\n",
       "      <td>233.889999</td>\n",
       "      <td>236.220001</td>\n",
       "      <td>232.600006</td>\n",
       "      <td>235.860001</td>\n",
       "      <td>235.860001</td>\n",
       "      <td>38846600</td>\n",
       "    </tr>\n",
       "    <tr>\n",
       "      <th>2024-10-23 00:00:00-05:00</th>\n",
       "      <td>234.080002</td>\n",
       "      <td>235.139999</td>\n",
       "      <td>227.759995</td>\n",
       "      <td>230.759995</td>\n",
       "      <td>230.759995</td>\n",
       "      <td>52287000</td>\n",
       "    </tr>\n",
       "    <tr>\n",
       "      <th>2024-10-24 00:00:00-05:00</th>\n",
       "      <td>229.979996</td>\n",
       "      <td>230.820007</td>\n",
       "      <td>228.410004</td>\n",
       "      <td>230.570007</td>\n",
       "      <td>230.570007</td>\n",
       "      <td>31071100</td>\n",
       "    </tr>\n",
       "  </tbody>\n",
       "</table>\n",
       "</div>"
      ],
      "text/plain": [
       "Price                            Open        High         Low       Close  \\\n",
       "Date                                                                        \n",
       "2024-10-18 00:00:00-05:00  236.179993  236.179993  234.009995  235.000000   \n",
       "2024-10-21 00:00:00-05:00  234.449997  236.850006  234.449997  236.479996   \n",
       "2024-10-22 00:00:00-05:00  233.889999  236.220001  232.600006  235.860001   \n",
       "2024-10-23 00:00:00-05:00  234.080002  235.139999  227.759995  230.759995   \n",
       "2024-10-24 00:00:00-05:00  229.979996  230.820007  228.410004  230.570007   \n",
       "\n",
       "Price                       Adj Close    Volume  \n",
       "Date                                             \n",
       "2024-10-18 00:00:00-05:00  235.000000  46431500  \n",
       "2024-10-21 00:00:00-05:00  236.479996  36254500  \n",
       "2024-10-22 00:00:00-05:00  235.860001  38846600  \n",
       "2024-10-23 00:00:00-05:00  230.759995  52287000  \n",
       "2024-10-24 00:00:00-05:00  230.570007  31071100  "
      ]
     },
     "execution_count": 7,
     "metadata": {},
     "output_type": "execute_result"
    }
   ],
   "source": [
    "df.tail()"
   ]
  },
  {
   "cell_type": "markdown",
   "metadata": {},
   "source": [
    "- 데이터 스케일링 \n",
    "- 앞서 서장한 traing_data_len을 활용하여 train_data로 저장하고 스케일링"
   ]
  },
  {
   "cell_type": "code",
   "execution_count": 8,
   "metadata": {},
   "outputs": [],
   "source": [
    "scaler = MinMaxScaler(feature_range=(0, 1))\n",
    "scaled_data = scaler.fit_transform(dataset)"
   ]
  },
  {
   "cell_type": "code",
   "execution_count": 9,
   "metadata": {},
   "outputs": [],
   "source": [
    "train_data = scaled_data[0:int(training_data_len), :]"
   ]
  },
  {
   "cell_type": "markdown",
   "metadata": {},
   "source": [
    "- LSTM 예측을 위해 사용할 시퀸스 길이는 60으로 설정\n",
    "- i에서 60개 이전이 x_train / i부터 60개를 예상해야하는 y_train으로 설정 \n",
    "- x_train => 샘플 수, 시퀀스 길이, 특성 수 \n",
    "- 즉 60일의 데이터를 기반으로 다음 날의 주가를 예측하는 구조"
   ]
  },
  {
   "cell_type": "code",
   "execution_count": 10,
   "metadata": {},
   "outputs": [],
   "source": [
    "x_train = []\n",
    "y_train = []\n",
    "\n",
    "for i in range(60, len(train_data)):\n",
    "    x_train.append(train_data[i-60:i, 0])\n",
    "    y_train.append(train_data[i, 0])\n",
    "\n",
    "x_train, y_train = np.array(x_train), np.array(y_train)\n",
    "x_train = np.reshape(x_train, (x_train.shape[0], x_train.shape[1], 1))"
   ]
  },
  {
   "cell_type": "markdown",
   "metadata": {},
   "source": [
    "- 데이터셋 및 데이터로더"
   ]
  },
  {
   "cell_type": "code",
   "execution_count": 11,
   "metadata": {},
   "outputs": [],
   "source": [
    "class StockDataset(torch.utils.data.Dataset):\n",
    "    def __init__(self, x_data, y_data):\n",
    "        self.x_data = torch.FloatTensor(x_data)\n",
    "        self.y_data = torch.FloatTensor(y_data)\n",
    "\n",
    "    def __len__(self):\n",
    "        return len(self.y_data)\n",
    "\n",
    "    def __getitem__(self, index):\n",
    "        return self.x_data[index], self.y_data[index]"
   ]
  },
  {
   "cell_type": "code",
   "execution_count": 12,
   "metadata": {},
   "outputs": [],
   "source": [
    "train_dataset = StockDataset(x_train, y_train)\n",
    "train_loader = torch.utils.data.DataLoader(train_dataset, batch_size=1, shuffle=True)"
   ]
  },
  {
   "cell_type": "markdown",
   "metadata": {},
   "source": [
    "- 테스트 데이터 만들기"
   ]
  },
  {
   "cell_type": "code",
   "execution_count": 13,
   "metadata": {},
   "outputs": [],
   "source": [
    "test_data = scaled_data[training_data_len - 60:, :] # 훈련 데이터 이후 데이터 \n",
    "x_test = []\n",
    "y_test = dataset[training_data_len:, :] # x_test데이터 60일이후  종가 데이터\n",
    "\n",
    "for i in range(60, len(test_data)):\n",
    "    x_test.append(test_data[i-60:i, 0])\n",
    "\n",
    "x_test = np.array(x_test)\n",
    "x_test = np.reshape(x_test, (x_test.shape[0], x_test.shape[1], 1))"
   ]
  },
  {
   "cell_type": "code",
   "execution_count": 14,
   "metadata": {},
   "outputs": [],
   "source": [
    "# LSTM 모델 정의\n",
    "class LSTM(nn.Module):\n",
    "    def __init__(self):\n",
    "        super(LSTM, self).__init__()\n",
    "        self.lstm1 = nn.LSTM(input_size=1, hidden_size=128, batch_first=True)\n",
    "        self.lstm2 = nn.LSTM(input_size=128, hidden_size=64, batch_first=True)\n",
    "        self.dense1 = nn.Linear(64, 25)\n",
    "        self.dense2 = nn.Linear(25, 1)\n",
    "\n",
    "    def forward(self, x):\n",
    "        out, _ = self.lstm1(x)\n",
    "        out, _ = self.lstm2(out)\n",
    "        out = self.dense1(out[:, -1, :])\n",
    "        out = self.dense2(out)\n",
    "        return out"
   ]
  },
  {
   "cell_type": "markdown",
   "metadata": {},
   "source": [
    "- 모델 학습\n",
    "- 시간이 없으므로 에포크는 1만"
   ]
  },
  {
   "cell_type": "code",
   "execution_count": 15,
   "metadata": {},
   "outputs": [],
   "source": [
    "model = LSTM()\n",
    "criterion = nn.MSELoss()\n",
    "optimizer = optim.Adam(model.parameters(), lr=0.001)\n",
    "\n",
    "epochs = 1\n",
    "for epoch in range(epochs):\n",
    "    for inputs, labels in train_loader:\n",
    "        optimizer.zero_grad()\n",
    "        outputs = model(inputs)\n",
    "        loss = criterion(outputs, labels.view(-1, 1))\n",
    "        loss.backward()\n",
    "        optimizer.step()"
   ]
  },
  {
   "cell_type": "markdown",
   "metadata": {},
   "source": [
    "- 예측 수행 "
   ]
  },
  {
   "cell_type": "code",
   "execution_count": 16,
   "metadata": {},
   "outputs": [],
   "source": [
    "model.eval()\n",
    "with torch.no_grad():\n",
    "    x_test_tensor = torch.FloatTensor(x_test)\n",
    "    predictions = model(x_test_tensor)\n",
    "    predictions = scaler.inverse_transform(predictions.numpy())"
   ]
  },
  {
   "cell_type": "markdown",
   "metadata": {},
   "source": [
    "- 예측을 데이터 프레임으로 만들고 확인"
   ]
  },
  {
   "cell_type": "code",
   "execution_count": 17,
   "metadata": {},
   "outputs": [
    {
     "name": "stderr",
     "output_type": "stream",
     "text": [
      "C:\\Users\\a\\AppData\\Local\\Temp\\ipykernel_16200\\2657761684.py:3: SettingWithCopyWarning: \n",
      "A value is trying to be set on a copy of a slice from a DataFrame.\n",
      "Try using .loc[row_indexer,col_indexer] = value instead\n",
      "\n",
      "See the caveats in the documentation: https://pandas.pydata.org/pandas-docs/stable/user_guide/indexing.html#returning-a-view-versus-a-copy\n",
      "  valid['Predictions'] = predictions\n"
     ]
    }
   ],
   "source": [
    "train = data[:training_data_len]\n",
    "valid = data[training_data_len:]\n",
    "valid['Predictions'] = predictions"
   ]
  },
  {
   "cell_type": "code",
   "execution_count": 18,
   "metadata": {},
   "outputs": [
    {
     "data": {
      "image/png": "[encoded data removed]",
      "text/plain": [
       "<Figure size 1600x600 with 1 Axes>"
      ]
     },
     "metadata": {},
     "output_type": "display_data"
    }
   ],
   "source": [
    "# 시각화\n",
    "plt.figure(figsize=(16, 6))\n",
    "plt.title('Model')\n",
    "plt.xlabel('Date', fontsize=18)\n",
    "plt.ylabel('Close Price USD ($)', fontsize=18)\n",
    "plt.plot(train['Close'], label='Train')\n",
    "plt.plot(valid['Close'], label='Val')\n",
    "plt.plot(valid['Predictions'], label='Predictions')\n",
    "plt.legend(loc='lower right')\n",
    "plt.show()\n"
   ]
  },
  {
   "cell_type": "markdown",
   "metadata": {},
   "source": [
    "- 스케일링 된 마지막 날 데이터를 가져와서 예측을 수행\n",
    "- inverse_trasfrom을 사용해서 스케일링을 된걸 다시 되돌리기 "
   ]
  },
  {
   "cell_type": "code",
   "execution_count": null,
   "metadata": {},
   "outputs": [],
   "source": [
    "last_60_days = scaled_data[-60:]  \n",
    "next_day_input = last_60_days.reshape((1, 60, 1))  \n",
    "\n",
    "with torch.no_grad():\n",
    "    next_day_prediction = model(torch.FloatTensor(next_day_input))\n",
    "\n",
    "next_day_prediction = scaler.inverse_transform(next_day_prediction.numpy())\n",
    "\n",
    "print(\"예측값:\", next_day_prediction[0][0])"
   ]
  },
  {
   "cell_type": "code",
   "execution_count": 148,
   "metadata": {},
   "outputs": [],
   "source": [
    "date_range_list = [\n",
    "    \"2024-10-25\",\n",
    "    \"2024-10-28\",\n",
    "    \"2024-10-29\",\n",
    "    \"2024-10-30\",\n",
    "    \"2024-10-31\",\n",
    "    \"2024-11-01\",\n",
    "    \"2024-11-04\",\n",
    "    \"2024-11-05\",\n",
    "    \"2024-11-06\",\n",
    "    \"2024-11-07\",\n",
    "    \"2024-11-08\",\n",
    "    \"2024-11-11\",\n",
    "    \"2024-11-12\",\n",
    "    \"2024-11-13\",\n",
    "    \"2024-11-14\",\n",
    "    \"2024-11-15\",\n",
    "    \"2024-11-18\",\n",
    "    \"2024-11-19\",\n",
    "    \"2024-11-20\",\n",
    "    \"2024-11-21\",\n",
    "    \"2024-11-22\",\n",
    "    \"2024-11-25\",\n",
    "    \"2024-11-26\",\n",
    "    \"2024-11-27\",\n",
    "    \"2024-11-29\",\n",
    "    \"2024-12-02\",\n",
    "    \"2024-12-03\",\n",
    "    \"2024-12-04\",\n",
    "    \"2024-12-05\",\n",
    "    \"2024-12-06\",\n",
    "    \"2024-12-09\",\n",
    "    \"2024-12-10\",\n",
    "    \"2024-12-11\",\n",
    "    \"2024-12-12\",\n",
    "    \"2024-12-13\",\n",
    "    \"2024-12-16\",\n",
    "    \"2024-12-17\",\n",
    "    \"2024-12-18\",\n",
    "    \"2024-12-19\",\n",
    "    \"2024-12-20\",\n",
    "    \"2024-12-23\",\n",
    "    \"2024-12-24\",\n",
    "    \"2024-12-26\",\n",
    "    \"2024-12-27\",\n",
    "    \"2024-12-30\",\n",
    "    \"2024-12-31\"\n",
    "]"
   ]
  },
  {
   "cell_type": "markdown",
   "metadata": {},
   "source": [
    "- 처음 입력 시퀀스를 설정 \n",
    "- 초기 예측값을 업데이트 시키고 새 예측값을 뽑는다 \n",
    "    * 마지막까지로 해서 60일 하고 , 61일 예측값을 62일 예측값으로 사용 \n",
    "- 제일 처음을 예측하고 난뒤에 저장하고 제일 앞의 값을 지우고 , 예측값이랑 합쳐서 새로운 sequence를 생성 "
   ]
  },
  {
   "cell_type": "code",
   "execution_count": 162,
   "metadata": {},
   "outputs": [],
   "source": [
    "last_60_days = scaled_data[-60:] \n",
    "input_sequence = last_60_days.reshape((1, 60, 1))\n",
    "\n",
    "predictions = []\n",
    "\n",
    "for _ in range(len(date_range_list)):\n",
    "    with torch.no_grad():\n",
    "        next_day_prediction = model(torch.FloatTensor(input_sequence))\n",
    "        \n",
    "        predictions.append(next_day_prediction.numpy()[0][0])\n",
    "        \n",
    "        next_day_prediction = next_day_prediction.numpy()[0][0]\n",
    "        \n",
    "        new_input = np.append(input_sequence[0, 1:, :], [[next_day_prediction]], axis=0) \n",
    "        input_sequence = new_input.reshape((1, 60, 1))  \n",
    "\n",
    "predicted_prices = scaler.inverse_transform(np.array(predictions).reshape(-1, 1))\n",
    "\n",
    "predicted_prices_rounded = np.round(predicted_prices)\n"
   ]
  },
  {
   "cell_type": "code",
   "execution_count": null,
   "metadata": {},
   "outputs": [],
   "source": [
    "print(\"Next week predictions (original scale):\", predicted_prices_rounded.flatten(),len(predicted_prices_rounded))"
   ]
  },
  {
   "cell_type": "code",
   "execution_count": null,
   "metadata": {},
   "outputs": [],
   "source": [
    "# 데이터프레임 생성\n",
    "predicted_df = pd.DataFrame({\n",
    "    'date': date_range_list,\n",
    "    'predicted': predicted_prices_rounded.flatten()\n",
    "})\n",
    "\n",
    "# CSV 파일로 저장\n",
    "predicted_df.to_csv('predicted_stock_60.csv', index=False)\n",
    "print('완료')"
   ]
  },
  {
   "cell_type": "code",
   "execution_count": null,
   "metadata": {},
   "outputs": [],
   "source": [
    "predicted_df.tail()"
   ]
  },
  {
   "cell_type": "code",
   "execution_count": null,
   "metadata": {},
   "outputs": [],
   "source": [
    "# !pip install pymysql"
   ]
  },
  {
   "cell_type": "markdown",
   "metadata": {},
   "source": [
    "- 추론 함수 구현 "
   ]
  },
  {
   "cell_type": "markdown",
   "metadata": {},
   "source": []
  },
  {
   "cell_type": "code",
   "execution_count": 26,
   "metadata": {},
   "outputs": [],
   "source": [
    "import joblib"
   ]
  },
  {
   "cell_type": "markdown",
   "metadata": {},
   "source": [
    "- 모델 스케일러 저장"
   ]
  },
  {
   "cell_type": "code",
   "execution_count": 28,
   "metadata": {},
   "outputs": [],
   "source": [
    "def save_model_and_scaler(model, scaler, model_path='lstm_model.pth', scaler_path='scaler.pkl'):\n",
    "    torch.save(model.state_dict(), model_path)\n",
    "    joblib.dump(scaler, scaler_path)"
   ]
  },
  {
   "cell_type": "code",
   "execution_count": 29,
   "metadata": {},
   "outputs": [],
   "source": [
    "save_model_and_scaler(model, scaler)"
   ]
  },
  {
   "cell_type": "markdown",
   "metadata": {},
   "source": [
    "- 하루 예측 함수 \n",
    "- 매일 최신데이터로 다음날을 예측해볼수 있을 거 같음"
   ]
  },
  {
   "cell_type": "code",
   "execution_count": 35,
   "metadata": {},
   "outputs": [],
   "source": [
    "def predict_next_day(model, scaler, ticker, prediction_date):\n",
    "    # 예측날 이전의 60일 데이터 \n",
    "    end_date = prediction_date\n",
    "    start_date = end_date - timedelta(days=100) \n",
    "    \n",
    "    data = yf.download(ticker, start=start_date, end=end_date, interval='1d')\n",
    "    \n",
    "    # 종가('close')만 필터링 \n",
    "    data = data[['Close']]\n",
    "    dataset = data.values\n",
    "\n",
    "    scaled_data = scaler.transform(dataset)\n",
    "    \n",
    "    last_60_days = scaled_data[-60:]\n",
    "    next_day_input = last_60_days.reshape((1, 60, 1))\n",
    "    \n",
    "    model.eval()\n",
    "    with torch.no_grad():\n",
    "        next_day_prediction = model(torch.FloatTensor(next_day_input))\n",
    "    \n",
    "    next_day_prediction = scaler.inverse_transform(next_day_prediction.numpy())\n",
    "    return next_day_prediction[0][0]"
   ]
  },
  {
   "cell_type": "code",
   "execution_count": null,
   "metadata": {},
   "outputs": [],
   "source": [
    "prediction_date = datetime(2024, 10, 25) \n",
    "predicted_value = predict_next_day(model, scaler, 'AAPL', prediction_date)"
   ]
  },
  {
   "cell_type": "code",
   "execution_count": null,
   "metadata": {},
   "outputs": [],
   "source": [
    "predicted_value"
   ]
  },
  {
   "cell_type": "code",
   "execution_count": null,
   "metadata": {},
   "outputs": [],
   "source": []
  },
  {
   "cell_type": "code",
   "execution_count": null,
   "metadata": {},
   "outputs": [],
   "source": [
    "'''\n",
    "def save_model_and_scaler(model, scaler, model_path='lstm_model.pth', scaler_path='scaler.pkl'):\n",
    "    torch.save(model.state_dict(), model_path)\n",
    "    joblib.dump(scaler, scaler_path)\n",
    "\n",
    "save_model_and_scaler(model, scaler)\n",
    "'''"
   ]
  },
  {
   "cell_type": "code",
   "execution_count": 43,
   "metadata": {},
   "outputs": [],
   "source": [
    "class LSTM(nn.Module):\n",
    "    def __init__(self):\n",
    "        super(LSTM, self).__init__()\n",
    "        self.lstm1 = nn.LSTM(input_size=1, hidden_size=128, batch_first=True)\n",
    "        self.lstm2 = nn.LSTM(input_size=128, hidden_size=64, batch_first=True)\n",
    "        self.dense1 = nn.Linear(64, 25)\n",
    "        self.dense2 = nn.Linear(25, 1)\n",
    "\n",
    "    def forward(self, x):\n",
    "        out, _ = self.lstm1(x)\n",
    "        out, _ = self.lstm2(out)\n",
    "        out = self.dense1(out[:, -1, :])\n",
    "        out = self.dense2(out)\n",
    "        return out"
   ]
  },
  {
   "cell_type": "code",
   "execution_count": 44,
   "metadata": {},
   "outputs": [],
   "source": [
    "def load_model_and_scaler(model_path='lstm_model.pth', scaler_path='scaler.pkl'):\n",
    "    model = LSTM()\n",
    "    model.load_state_dict(torch.load(model_path))\n",
    "    model.eval()  # 모델을 평가 모드로 설정\n",
    "    scaler = joblib.load(scaler_path)\n",
    "    return model, scaler"
   ]
  },
  {
   "cell_type": "code",
   "execution_count": 45,
   "metadata": {},
   "outputs": [],
   "source": [
    "def predict_next_day(model, scaler, ticker, prediction_date):\n",
    "    # 예측날 이전의 60일 데이터 \n",
    "    end_date = prediction_date\n",
    "    start_date = end_date - timedelta(days=100) \n",
    "    \n",
    "    data = yf.download(ticker, start=start_date, end=end_date, interval='1d')\n",
    "    \n",
    "    # 종가('close')만 필터링 \n",
    "    data = data[['Close']]\n",
    "    dataset = data.values\n",
    "\n",
    "    scaled_data = scaler.transform(dataset)\n",
    "    \n",
    "    last_60_days = scaled_data[-60:]\n",
    "    next_day_input = last_60_days.reshape((1, 60, 1))\n",
    "    \n",
    "    model.eval()\n",
    "    with torch.no_grad():\n",
    "        next_day_prediction = model(torch.FloatTensor(next_day_input))\n",
    "    \n",
    "    next_day_prediction = scaler.inverse_transform(next_day_prediction.numpy())\n",
    "    return next_day_prediction[0][0]"
   ]
  },
  {
   "cell_type": "code",
   "execution_count": 46,
   "metadata": {},
   "outputs": [
    {
     "name": "stderr",
     "output_type": "stream",
     "text": [
      "C:\\Users\\a\\AppData\\Local\\Temp\\ipykernel_21492\\4184368703.py:3: FutureWarning: You are using `torch.load` with `weights_only=False` (the current default value), which uses the default pickle module implicitly. It is possible to construct malicious pickle data which will execute arbitrary code during unpickling (See https://github.com/pytorch/pytorch/blob/main/SECURITY.md#untrusted-models for more details). In a future release, the default value for `weights_only` will be flipped to `True`. This limits the functions that could be executed during unpickling. Arbitrary objects will no longer be allowed to be loaded via this mode unless they are explicitly allowlisted by the user via `torch.serialization.add_safe_globals`. We recommend you start setting `weights_only=True` for any use case where you don't have full control of the loaded file. Please open an issue on GitHub for any issues related to this experimental feature.\n",
      "  model.load_state_dict(torch.load(model_path))\n"
     ]
    }
   ],
   "source": [
    "model, scaler = load_model_and_scaler()"
   ]
  },
  {
   "cell_type": "code",
   "execution_count": 47,
   "metadata": {},
   "outputs": [
    {
     "name": "stderr",
     "output_type": "stream",
     "text": [
      "[*********************100%***********************]  1 of 1 completed"
     ]
    },
    {
     "name": "stdout",
     "output_type": "stream",
     "text": [
      "예측값: 230.4112\n"
     ]
    },
    {
     "name": "stderr",
     "output_type": "stream",
     "text": [
      "\n"
     ]
    }
   ],
   "source": [
    "prediction_date = datetime(2024, 10, 25)  # 예측하고 싶은 날짜 입력\n",
    "predicted_value = predict_next_day(model, scaler, 'AAPL', prediction_date)\n",
    "print(\"예측값:\", predicted_value)"
   ]
  },
  {
   "cell_type": "code",
   "execution_count": null,
   "metadata": {},
   "outputs": [],
   "source": []
  }
 ],
 "metadata": {
  "kernelspec": {
   "display_name": "TORCH_38",
   "language": "python",
   "name": "python3"
  },
  "language_info": {
   "codemirror_mode": {
    "name": "ipython",
    "version": 3
   },
   "file_extension": ".py",
   "mimetype": "text/x-python",
   "name": "python",
   "nbconvert_exporter": "python",
   "pygments_lexer": "ipython3",
   "version": "3.8.19"
  }
 },
 "nbformat": 4,
 "nbformat_minor": 2
}
